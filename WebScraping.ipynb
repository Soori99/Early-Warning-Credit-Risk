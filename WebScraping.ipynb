{
 "cells": [
  {
   "cell_type": "code",
   "execution_count": 1,
   "metadata": {},
   "outputs": [],
   "source": [
    "import pandas as pd\n",
    "import matplotlib.pyplot as plt \n",
    "import requests\n",
    "from bs4 import BeautifulSoup\n",
    "import re"
   ]
  },
  {
   "cell_type": "code",
   "execution_count": 2,
   "metadata": {},
   "outputs": [],
   "source": [
    "# #Energy Companies\n",
    "\n",
    "# URL_list = [\"https://stockanalysis.com/stocks/ampy/financials/ratios/\",\n",
    "#             \"https://stockanalysis.com/stocks/boom/financials/ratios/\", \n",
    "#             \"https://stockanalysis.com/stocks/nc/financials/ratios/\",\n",
    "#             \"https://stockanalysis.com/stocks/slca/financials/ratios/\",\n",
    "#             \"https://stockanalysis.com/stocks/tk/financials/ratios/\",\n",
    "#             \"https://stockanalysis.com/stocks/tnp/financials/ratios/\",\n",
    "#             \"https://stockanalysis.com/stocks/sfl/financials/ratios/\",\n",
    "#             \"https://stockanalysis.com/stocks/sb/financials/ratios/\",\n",
    "#             \"https://stockanalysis.com/stocks/wkc/financials/ratios/\",\n",
    "#             \"https://stockanalysis.com/stocks/nvgs/financials/ratios/\"\n",
    "# ]\n",
    "\n",
    "# print(len(URL_list))"
   ]
  },
  {
   "cell_type": "code",
   "execution_count": 3,
   "metadata": {},
   "outputs": [],
   "source": [
    "# #Commercial Services\n",
    "\n",
    "# URL_list = [\"https://stockanalysis.com/stocks/pbi/financials/ratios/\",\n",
    "#             \"https://stockanalysis.com/stocks/bbsi/financials/ratios/\",\n",
    "#             \"https://stockanalysis.com/stocks/vvi/financials/ratios/\",\n",
    "#             \"https://stockanalysis.com/stocks/vsec/financials/ratios/\",\n",
    "#             \"https://stockanalysis.com/stocks/geo/financials/ratios/\",\n",
    "#             \"https://stockanalysis.com/stocks/icfi/financials/ratios/\",\n",
    "#             \"https://stockanalysis.com/stocks/mlkn/financials/ratios/\",\n",
    "#             \"https://stockanalysis.com/stocks/cxw/financials/ratios/\",\n",
    "#             \"https://stockanalysis.com/stocks/ttec/financials/ratios/\",\n",
    "#             \"https://stockanalysis.com/stocks/matw/financials/ratios/\"\n",
    "            \n",
    "# ]\n",
    "\n",
    "# print(len(URL_list))"
   ]
  },
  {
   "cell_type": "code",
   "execution_count": 4,
   "metadata": {},
   "outputs": [],
   "source": [
    "# #Retail\n",
    "# URL_list = [\"https://stockanalysis.com/stocks/weys/financials/ratios/\",\n",
    "#             \"https://stockanalysis.com/stocks/mnro/financials/ratios/\",\n",
    "#             \"https://stockanalysis.com/stocks/cal/financials/ratios/\",\n",
    "#             \"https://stockanalysis.com/stocks/ges/financials/ratios/\",\n",
    "#             \"https://stockanalysis.com/stocks/sah/financials/ratios/\",\n",
    "#             \"https://stockanalysis.com/stocks/odp/financials/ratios/\",\n",
    "#             \"https://stockanalysis.com/stocks/hibb/financials/ratios/\",\n",
    "#             \"https://stockanalysis.com/stocks/wina/financials/ratios/\",\n",
    "#             \"https://stockanalysis.com/stocks/ttsh/financials/ratios/\",\n",
    "#             \"https://stockanalysis.com/stocks/plce/financials/ratios/\"\n",
    "# ]\n",
    "\n",
    "# print(len(URL_list))"
   ]
  },
  {
   "cell_type": "code",
   "execution_count": 5,
   "metadata": {},
   "outputs": [],
   "source": [
    "# #FMCG\n",
    "# URL_list = [\"https://stockanalysis.com/stocks/bgs/financials/ratios/\",\n",
    "#             \"https://stockanalysis.com/stocks/agro/financials/ratios/\",\n",
    "#             \"https://stockanalysis.com/stocks/fdp/financials/ratios/\",\n",
    "#             \"https://stockanalysis.com/stocks/jbss/financials/ratios/\",\n",
    "#             \"https://stockanalysis.com/stocks/cvgw/financials/ratios/\",\n",
    "#             \"https://stockanalysis.com/stocks/alco/financials/ratios/\",\n",
    "#             \"https://stockanalysis.com/stocks/lway/financials/ratios/\",\n",
    "#             \"https://stockanalysis.com/stocks/uvv/financials/ratios/\",\n",
    "#             \"https://stockanalysis.com/stocks/fizz/financials/ratios/\",\n",
    "#             \"https://stockanalysis.com/stocks/flo/financials/ratios/\"\n",
    "# ]\n",
    "\n",
    "# print(len(URL_list))"
   ]
  },
  {
   "cell_type": "code",
   "execution_count": 6,
   "metadata": {},
   "outputs": [],
   "source": [
    "# #Software\n",
    "# URL_list = [\"https://stockanalysis.com/stocks/riot/financials/ratios/\",\n",
    "#             \"https://stockanalysis.com/stocks/spns/financials/ratios/\",\n",
    "#             \"https://stockanalysis.com/stocks/adea/financials/ratios/\",\n",
    "#             \"https://stockanalysis.com/stocks/aten/financials/ratios/\",\n",
    "#             \"https://stockanalysis.com/stocks/opra/financials/ratios/\",\n",
    "#             \"https://stockanalysis.com/stocks/hckt/financials/ratios/\",\n",
    "#             \"https://stockanalysis.com/stocks/mgic/financials/ratios/\",\n",
    "#             \"https://stockanalysis.com/stocks/iii/financials/ratios/\",\n",
    "# ]\n",
    "\n",
    "# print(len(URL_list))"
   ]
  },
  {
   "cell_type": "code",
   "execution_count": 7,
   "metadata": {},
   "outputs": [
    {
     "name": "stdout",
     "output_type": "stream",
     "text": [
      "10\n"
     ]
    }
   ],
   "source": [
    "#Transportation\n",
    "URL_list = [\"https://stockanalysis.com/stocks/ulh/financials/ratios/\",\n",
    "            \"https://stockanalysis.com/stocks/jbl/financials/ratios/\",\n",
    "            \"https://stockanalysis.com/stocks/skyw/financials/ratios/\",\n",
    "            \"https://stockanalysis.com/stocks/algt/financials/ratios/\",\n",
    "            \"https://stockanalysis.com/stocks/esea/financials/ratios/\",\n",
    "            \"https://stockanalysis.com/stocks/sb/financials/ratios/\",\n",
    "            \"https://stockanalysis.com/stocks/cmre/financials/ratios/\",\n",
    "            \"https://stockanalysis.com/stocks/gogl/financials/ratios/\",\n",
    "            \"https://stockanalysis.com/stocks/dac/financials/ratios/\",\n",
    "            \"https://stockanalysis.com/stocks/ha/financials/ratios/\"\n",
    "]\n",
    "\n",
    "print(len(URL_list))"
   ]
  },
  {
   "cell_type": "code",
   "execution_count": 8,
   "metadata": {},
   "outputs": [
    {
     "name": "stdout",
     "output_type": "stream",
     "text": [
      "No table with the specified class found on the page.\n",
      "No table with the specified class found on the page.\n",
      "No table with the specified class found on the page.\n",
      "No table with the specified class found on the page.\n",
      "No table with the specified class found on the page.\n",
      "No table with the specified class found on the page.\n",
      "No table with the specified class found on the page.\n",
      "No table with the specified class found on the page.\n",
      "No table with the specified class found on the page.\n",
      "No table with the specified class found on the page.\n"
     ]
    }
   ],
   "source": [
    "df = pd.DataFrame()\n",
    "# GET request\n",
    "for i in range (len(URL_list)):\n",
    "    URL  = URL_list[i] \n",
    "    response = requests.get(URL)\n",
    "\n",
    "    # Check if the request was successful (status code 200)\n",
    "    if response.status_code == 200:\n",
    "    # Parse the HTML content of the page\n",
    "        soup = BeautifulSoup(response.content, 'html.parser')\n",
    "\n",
    "        # Find an element by class\n",
    "        sample_class = soup.find('div', class_='mb-4 flex items-start justify-between')\n",
    "\n",
    "        # Print the text content of the element\n",
    "        if sample_class:\n",
    "            # print(\"Content of the element with the specified class:\")\n",
    "            # print(sample_class.text.strip())\n",
    "            sentence = sample_class.text.strip()\n",
    "\n",
    "        # Use regular expressions to extract company and ticker\n",
    "            match = re.match(r\"(.+?) \\((\\w+)\\)\", sentence)\n",
    "\n",
    "            if match:\n",
    "                company_name = match.group(1)\n",
    "                ticker_symbol = match.group(2)\n",
    "\n",
    "                # print(\"Company:\", company_name)\n",
    "                # print(\"Ticker:\", ticker_symbol)\n",
    "\n",
    "                values = {}\n",
    "\n",
    "                for i in range(11):\n",
    "                    values['Company'] = company_name\n",
    "                    values['Ticker'] = ticker_symbol\n",
    "\n",
    "            else:\n",
    "                print(\"Unable to extract company and ticker information.\")  \n",
    "        else:\n",
    "            print(\"No element with the specified class found on the page.\")\n",
    "\n",
    "        # Find the table element with a specific class\n",
    "        table_with_class = soup.find('table', class_='w-full border-separate border-spacing-0 whitespace-nowrap')\n",
    "\n",
    "        # Check if the table with the specified class is found\n",
    "        if table_with_class:\n",
    "            # Extract data from the table and create a DataFrame\n",
    "            table_data = []\n",
    "            for row in table_with_class.find_all('tr'):\n",
    "                row_data = [cell.text.strip() for cell in row.find_all(['td', 'th'])]\n",
    "                table_data.append(row_data)\n",
    "\n",
    "            for i in range(29):\n",
    "                data_final= []\n",
    "                if i == 2:\n",
    "                    continue\n",
    "                else:\n",
    "                    for j in range(1, len(table_data[i])-1):\n",
    "                        if table_data[i][j] == \"Current\":\n",
    "                            data_final.append(\"2023\")\n",
    "                        else:\n",
    "                            data_final.append(table_data[i][j])              \n",
    "                values[table_data[i][0]] = data_final\n",
    "            # print(values)\n",
    "\n",
    "            df6 = pd.DataFrame(values)    \n",
    "\n",
    "            df = pd.concat([df,df6])\n",
    "            # print(df)\n",
    "            # print(df.dtypes)\n",
    "           \n",
    "        else:\n",
    "            print(\"No table with the specified class found on the page.\")\n",
    "    else:\n",
    "        print(f\"Failed to retrieve the page. Status code: {response.status_code}\")"
   ]
  },
  {
   "cell_type": "code",
   "execution_count": 9,
   "metadata": {},
   "outputs": [
    {
     "data": {
      "text/html": [
       "<div>\n",
       "<style scoped>\n",
       "    .dataframe tbody tr th:only-of-type {\n",
       "        vertical-align: middle;\n",
       "    }\n",
       "\n",
       "    .dataframe tbody tr th {\n",
       "        vertical-align: top;\n",
       "    }\n",
       "\n",
       "    .dataframe thead th {\n",
       "        text-align: right;\n",
       "    }\n",
       "</style>\n",
       "<table border=\"1\" class=\"dataframe\">\n",
       "  <thead>\n",
       "    <tr style=\"text-align: right;\">\n",
       "      <th></th>\n",
       "    </tr>\n",
       "  </thead>\n",
       "  <tbody>\n",
       "  </tbody>\n",
       "</table>\n",
       "</div>"
      ],
      "text/plain": [
       "Empty DataFrame\n",
       "Columns: []\n",
       "Index: []"
      ]
     },
     "execution_count": 9,
     "metadata": {},
     "output_type": "execute_result"
    }
   ],
   "source": [
    "df.head()"
   ]
  },
  {
   "cell_type": "code",
   "execution_count": 10,
   "metadata": {},
   "outputs": [
    {
     "name": "stdout",
     "output_type": "stream",
     "text": [
      "Series([], dtype: object)\n",
      "DataFrame has been saved to transportation_output.xlsx\n"
     ]
    }
   ],
   "source": [
    "# df = df.drop(['level_0','index'],axis = 1)\n",
    "# df.reset_index(inplace= True)\n",
    "\n",
    "columns= df.columns\n",
    "# print(columns)\n",
    "\n",
    "for i in range(2, len(columns)):\n",
    "    if i >= 21:\n",
    "        df[columns[i]] = pd.to_numeric(df[columns[i]].str.replace('%', ''), errors='coerce') / 100\n",
    "    else:\n",
    "        df[columns[i]] = pd.to_numeric(df[columns[i]].str.replace(',', ''), errors= 'coerce')\n",
    "\n",
    "print(df.dtypes)\n",
    "\n",
    "# Save the DataFrame to an Excel file\n",
    "excel_filename = 'transportation_output.xlsx'\n",
    "df.to_excel(excel_filename, index=False)\n",
    "print(f\"DataFrame has been saved to {excel_filename}\")\n"
   ]
  },
  {
   "cell_type": "code",
   "execution_count": 11,
   "metadata": {},
   "outputs": [
    {
     "ename": "IndexError",
     "evalue": "single positional indexer is out-of-bounds",
     "output_type": "error",
     "traceback": [
      "\u001b[1;31m---------------------------------------------------------------------------\u001b[0m",
      "\u001b[1;31mIndexError\u001b[0m                                Traceback (most recent call last)",
      "Cell \u001b[1;32mIn[11], line 1\u001b[0m\n\u001b[1;32m----> 1\u001b[0m \u001b[43mdf\u001b[49m\u001b[38;5;241;43m.\u001b[39;49m\u001b[43miloc\u001b[49m\u001b[43m[\u001b[49m\u001b[38;5;241;43m0\u001b[39;49m\u001b[43m]\u001b[49m\n",
      "File \u001b[1;32mc:\\Users\\soory\\AppData\\Local\\Programs\\Python\\Python311\\Lib\\site-packages\\pandas\\core\\indexing.py:1103\u001b[0m, in \u001b[0;36m_LocationIndexer.__getitem__\u001b[1;34m(self, key)\u001b[0m\n\u001b[0;32m   1100\u001b[0m axis \u001b[38;5;241m=\u001b[39m \u001b[38;5;28mself\u001b[39m\u001b[38;5;241m.\u001b[39maxis \u001b[38;5;129;01mor\u001b[39;00m \u001b[38;5;241m0\u001b[39m\n\u001b[0;32m   1102\u001b[0m maybe_callable \u001b[38;5;241m=\u001b[39m com\u001b[38;5;241m.\u001b[39mapply_if_callable(key, \u001b[38;5;28mself\u001b[39m\u001b[38;5;241m.\u001b[39mobj)\n\u001b[1;32m-> 1103\u001b[0m \u001b[38;5;28;01mreturn\u001b[39;00m \u001b[38;5;28;43mself\u001b[39;49m\u001b[38;5;241;43m.\u001b[39;49m\u001b[43m_getitem_axis\u001b[49m\u001b[43m(\u001b[49m\u001b[43mmaybe_callable\u001b[49m\u001b[43m,\u001b[49m\u001b[43m \u001b[49m\u001b[43maxis\u001b[49m\u001b[38;5;241;43m=\u001b[39;49m\u001b[43maxis\u001b[49m\u001b[43m)\u001b[49m\n",
      "File \u001b[1;32mc:\\Users\\soory\\AppData\\Local\\Programs\\Python\\Python311\\Lib\\site-packages\\pandas\\core\\indexing.py:1656\u001b[0m, in \u001b[0;36m_iLocIndexer._getitem_axis\u001b[1;34m(self, key, axis)\u001b[0m\n\u001b[0;32m   1653\u001b[0m     \u001b[38;5;28;01mraise\u001b[39;00m \u001b[38;5;167;01mTypeError\u001b[39;00m(\u001b[38;5;124m\"\u001b[39m\u001b[38;5;124mCannot index by location index with a non-integer key\u001b[39m\u001b[38;5;124m\"\u001b[39m)\n\u001b[0;32m   1655\u001b[0m \u001b[38;5;66;03m# validate the location\u001b[39;00m\n\u001b[1;32m-> 1656\u001b[0m \u001b[38;5;28;43mself\u001b[39;49m\u001b[38;5;241;43m.\u001b[39;49m\u001b[43m_validate_integer\u001b[49m\u001b[43m(\u001b[49m\u001b[43mkey\u001b[49m\u001b[43m,\u001b[49m\u001b[43m \u001b[49m\u001b[43maxis\u001b[49m\u001b[43m)\u001b[49m\n\u001b[0;32m   1658\u001b[0m \u001b[38;5;28;01mreturn\u001b[39;00m \u001b[38;5;28mself\u001b[39m\u001b[38;5;241m.\u001b[39mobj\u001b[38;5;241m.\u001b[39m_ixs(key, axis\u001b[38;5;241m=\u001b[39maxis)\n",
      "File \u001b[1;32mc:\\Users\\soory\\AppData\\Local\\Programs\\Python\\Python311\\Lib\\site-packages\\pandas\\core\\indexing.py:1589\u001b[0m, in \u001b[0;36m_iLocIndexer._validate_integer\u001b[1;34m(self, key, axis)\u001b[0m\n\u001b[0;32m   1587\u001b[0m len_axis \u001b[38;5;241m=\u001b[39m \u001b[38;5;28mlen\u001b[39m(\u001b[38;5;28mself\u001b[39m\u001b[38;5;241m.\u001b[39mobj\u001b[38;5;241m.\u001b[39m_get_axis(axis))\n\u001b[0;32m   1588\u001b[0m \u001b[38;5;28;01mif\u001b[39;00m key \u001b[38;5;241m>\u001b[39m\u001b[38;5;241m=\u001b[39m len_axis \u001b[38;5;129;01mor\u001b[39;00m key \u001b[38;5;241m<\u001b[39m \u001b[38;5;241m-\u001b[39mlen_axis:\n\u001b[1;32m-> 1589\u001b[0m     \u001b[38;5;28;01mraise\u001b[39;00m \u001b[38;5;167;01mIndexError\u001b[39;00m(\u001b[38;5;124m\"\u001b[39m\u001b[38;5;124msingle positional indexer is out-of-bounds\u001b[39m\u001b[38;5;124m\"\u001b[39m)\n",
      "\u001b[1;31mIndexError\u001b[0m: single positional indexer is out-of-bounds"
     ]
    }
   ],
   "source": [
    "df.iloc[0]"
   ]
  },
  {
   "cell_type": "code",
   "execution_count": null,
   "metadata": {},
   "outputs": [],
   "source": [
    "# df_final= pd.DataFrame()\n",
    "# df1 = pd.read_excel(\"energy_output.xlsx\")\n",
    "# df2 = pd.read_excel(\"commercial_services_output.xlsx\")\n",
    "# df3 = pd.read_excel(\"retail_output.xlsx\")\n",
    "# df4 = pd.read_excel(\"food_beverage_tobacco_output.xlsx\")\n",
    "# df5 = pd.read_excel(\"transportation_output.xlsx\")\n",
    "# result_df = pd.concat([df1, df2, df3, df4, df5], axis=0)\n",
    "# result_df = result_df.reset_index(drop=True)\n",
    "\n",
    "# # Save the DataFrame to an Excel file\n",
    "# excel_filename = 'values_final.xlsx'\n",
    "# result_df.to_excel(excel_filename, index=False)\n",
    "# print(f\"DataFrame has been saved to {excel_filename}\")"
   ]
  }
 ],
 "metadata": {
  "kernelspec": {
   "display_name": "Python 3",
   "language": "python",
   "name": "python3"
  },
  "language_info": {
   "codemirror_mode": {
    "name": "ipython",
    "version": 3
   },
   "file_extension": ".py",
   "mimetype": "text/x-python",
   "name": "python",
   "nbconvert_exporter": "python",
   "pygments_lexer": "ipython3",
   "version": "3.11.3"
  }
 },
 "nbformat": 4,
 "nbformat_minor": 2
}
